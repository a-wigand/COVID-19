{
 "cells": [
  {
   "cell_type": "code",
   "execution_count": 1,
   "metadata": {},
   "outputs": [],
   "source": [
    "import numpy as np\n",
    "import matplotlib.pyplot as plt\n",
    "import pandas as pd"
   ]
  },
  {
   "cell_type": "code",
   "execution_count": 3,
   "metadata": {},
   "outputs": [
    {
     "name": "stdout",
     "output_type": "stream",
     "text": [
      "<class 'pandas.core.frame.DataFrame'>\n",
      "RangeIndex: 256 entries, 0 to 255\n",
      "Data columns (total 75 columns):\n",
      " #   Column          Non-Null Count  Dtype  \n",
      "---  ------          --------------  -----  \n",
      " 0   Province/State  79 non-null     object \n",
      " 1   Country/Region  256 non-null    object \n",
      " 2   Lat             256 non-null    float64\n",
      " 3   Long            256 non-null    float64\n",
      " 4   1/22/20         256 non-null    int64  \n",
      " 5   1/23/20         256 non-null    int64  \n",
      " 6   1/24/20         256 non-null    int64  \n",
      " 7   1/25/20         256 non-null    int64  \n",
      " 8   1/26/20         256 non-null    int64  \n",
      " 9   1/27/20         256 non-null    int64  \n",
      " 10  1/28/20         256 non-null    int64  \n",
      " 11  1/29/20         256 non-null    int64  \n",
      " 12  1/30/20         256 non-null    int64  \n",
      " 13  1/31/20         256 non-null    int64  \n",
      " 14  2/1/20          256 non-null    int64  \n",
      " 15  2/2/20          256 non-null    int64  \n",
      " 16  2/3/20          256 non-null    int64  \n",
      " 17  2/4/20          256 non-null    int64  \n",
      " 18  2/5/20          256 non-null    int64  \n",
      " 19  2/6/20          256 non-null    int64  \n",
      " 20  2/7/20          256 non-null    int64  \n",
      " 21  2/8/20          256 non-null    int64  \n",
      " 22  2/9/20          256 non-null    int64  \n",
      " 23  2/10/20         256 non-null    int64  \n",
      " 24  2/11/20         256 non-null    int64  \n",
      " 25  2/12/20         256 non-null    int64  \n",
      " 26  2/13/20         256 non-null    int64  \n",
      " 27  2/14/20         256 non-null    int64  \n",
      " 28  2/15/20         256 non-null    int64  \n",
      " 29  2/16/20         256 non-null    int64  \n",
      " 30  2/17/20         256 non-null    int64  \n",
      " 31  2/18/20         256 non-null    int64  \n",
      " 32  2/19/20         256 non-null    int64  \n",
      " 33  2/20/20         256 non-null    int64  \n",
      " 34  2/21/20         256 non-null    int64  \n",
      " 35  2/22/20         256 non-null    int64  \n",
      " 36  2/23/20         256 non-null    int64  \n",
      " 37  2/24/20         256 non-null    int64  \n",
      " 38  2/25/20         256 non-null    int64  \n",
      " 39  2/26/20         256 non-null    int64  \n",
      " 40  2/27/20         256 non-null    int64  \n",
      " 41  2/28/20         256 non-null    int64  \n",
      " 42  2/29/20         256 non-null    int64  \n",
      " 43  3/1/20          256 non-null    int64  \n",
      " 44  3/2/20          256 non-null    int64  \n",
      " 45  3/3/20          256 non-null    int64  \n",
      " 46  3/4/20          256 non-null    int64  \n",
      " 47  3/5/20          256 non-null    int64  \n",
      " 48  3/6/20          256 non-null    int64  \n",
      " 49  3/7/20          256 non-null    int64  \n",
      " 50  3/8/20          256 non-null    int64  \n",
      " 51  3/9/20          256 non-null    int64  \n",
      " 52  3/10/20         256 non-null    int64  \n",
      " 53  3/11/20         256 non-null    int64  \n",
      " 54  3/12/20         256 non-null    int64  \n",
      " 55  3/13/20         256 non-null    int64  \n",
      " 56  3/14/20         256 non-null    int64  \n",
      " 57  3/15/20         256 non-null    int64  \n",
      " 58  3/16/20         256 non-null    int64  \n",
      " 59  3/17/20         256 non-null    int64  \n",
      " 60  3/18/20         256 non-null    int64  \n",
      " 61  3/19/20         256 non-null    int64  \n",
      " 62  3/20/20         256 non-null    int64  \n",
      " 63  3/21/20         256 non-null    int64  \n",
      " 64  3/22/20         256 non-null    int64  \n",
      " 65  3/23/20         256 non-null    int64  \n",
      " 66  3/24/20         256 non-null    int64  \n",
      " 67  3/25/20         256 non-null    int64  \n",
      " 68  3/26/20         256 non-null    int64  \n",
      " 69  3/27/20         256 non-null    int64  \n",
      " 70  3/28/20         256 non-null    int64  \n",
      " 71  3/29/20         256 non-null    int64  \n",
      " 72  3/30/20         256 non-null    int64  \n",
      " 73  3/31/20         256 non-null    int64  \n",
      " 74  4/1/20          256 non-null    int64  \n",
      "dtypes: float64(2), int64(71), object(2)\n",
      "memory usage: 150.1+ KB\n"
     ]
    }
   ],
   "source": [
    "confirmed_file = '../csse_covid_19_data/csse_covid_19_time_series/time_series_covid19_confirmed_global.csv'\n",
    "\n",
    "df = pd.read_csv(confirmed_file)\n",
    "df.info()"
   ]
  },
  {
   "cell_type": "code",
   "execution_count": null,
   "metadata": {},
   "outputs": [],
   "source": []
  }
 ],
 "metadata": {
  "kernelspec": {
   "display_name": "Python 3",
   "language": "python",
   "name": "python3"
  },
  "language_info": {
   "codemirror_mode": {
    "name": "ipython",
    "version": 3
   },
   "file_extension": ".py",
   "mimetype": "text/x-python",
   "name": "python",
   "nbconvert_exporter": "python",
   "pygments_lexer": "ipython3",
   "version": "3.8.2"
  }
 },
 "nbformat": 4,
 "nbformat_minor": 4
}
